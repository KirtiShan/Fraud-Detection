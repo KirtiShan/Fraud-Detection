{
  "nbformat": 4,
  "nbformat_minor": 0,
  "metadata": {
    "colab": {
      "name": "PaySim.ipynb",
      "provenance": []
    },
    "kernelspec": {
      "name": "python3",
      "display_name": "Python 3"
    }
  },
  "cells": [
    {
      "cell_type": "code",
      "metadata": {
        "id": "6fs-vCO6GIyo"
      },
      "source": [
        "import numpy as np # linear algebra\n",
        "import pandas as pd # data processing, CSV file I/O (e.g. pd.read_csv)\n",
        "import seaborn as sns\n",
        "import matplotlib.pyplot as plt\n",
        "\n",
        "from sklearn.model_selection import train_test_split\n",
        "from subprocess import check_output\n",
        "from sklearn import linear_model\n",
        "\n",
        "from sklearn.metrics import classification_report, confusion_matrix\n",
        "from sklearn.naive_bayes import GaussianNB\n",
        "from sklearn.ensemble import RandomForestClassifier\n",
        "\n",
        "\n",
        "\n",
        "from sklearn.model_selection import train_test_split\n",
        "import warnings\n",
        "warnings.filterwarnings('ignore')"
      ],
      "execution_count": null,
      "outputs": []
    },
    {
      "cell_type": "code",
      "metadata": {
        "id": "HiXxuZbrImHO"
      },
      "source": [
        "meta_data = pd.read_csv(\"/content/drive/MyDrive/Datasets for ML/PS_20174392719_1491204439457_log.csv\")"
      ],
      "execution_count": null,
      "outputs": []
    },
    {
      "cell_type": "code",
      "metadata": {
        "colab": {
          "base_uri": "https://localhost:8080/"
        },
        "id": "M2G1PZJ7It8Q",
        "outputId": "f076048f-1b46-4fad-afa3-a7a47d6b8d49"
      },
      "source": [
        "del meta_data['nameDest']\n",
        "del meta_data['nameOrig']\n",
        "del meta_data['type']\n",
        "len(meta_data)"
      ],
      "execution_count": null,
      "outputs": [
        {
          "output_type": "execute_result",
          "data": {
            "text/plain": [
              "6362620"
            ]
          },
          "metadata": {
            "tags": []
          },
          "execution_count": 11
        }
      ]
    },
    {
      "cell_type": "code",
      "metadata": {
        "id": "OqPqikWOOszA"
      },
      "source": [
        "Cols = meta_data[['step','amount','oldbalanceOrg','newbalanceOrig','oldbalanceDest','newbalanceDest','isFlaggedFraud']]\n",
        "y = meta_data['isFraud']\n",
        "X = Cols\n"
      ],
      "execution_count": null,
      "outputs": []
    },
    {
      "cell_type": "code",
      "metadata": {
        "colab": {
          "base_uri": "https://localhost:8080/"
        },
        "id": "VDqoGfKWZu8d",
        "outputId": "ac8c34b2-25ef-46bf-928f-09212a6da15b"
      },
      "source": [
        "meta_data.info()"
      ],
      "execution_count": null,
      "outputs": [
        {
          "output_type": "stream",
          "text": [
            "<class 'pandas.core.frame.DataFrame'>\n",
            "RangeIndex: 6362620 entries, 0 to 6362619\n",
            "Data columns (total 8 columns):\n",
            " #   Column          Dtype  \n",
            "---  ------          -----  \n",
            " 0   step            int64  \n",
            " 1   amount          float64\n",
            " 2   oldbalanceOrg   float64\n",
            " 3   newbalanceOrig  float64\n",
            " 4   oldbalanceDest  float64\n",
            " 5   newbalanceDest  float64\n",
            " 6   isFraud         int64  \n",
            " 7   isFlaggedFraud  int64  \n",
            "dtypes: float64(5), int64(3)\n",
            "memory usage: 388.3 MB\n"
          ],
          "name": "stdout"
        }
      ]
    },
    {
      "cell_type": "code",
      "metadata": {
        "id": "0zQWK1tLOTu4"
      },
      "source": [
        "\n",
        "X_train, X_test, y_train, y_test = train_test_split(X, y, test_size=0.3, random_state=42) #use this random state to match my results only\n",
        "#training our model"
      ],
      "execution_count": null,
      "outputs": []
    },
    {
      "cell_type": "code",
      "metadata": {
        "id": "W2D18Ep_NjJr"
      },
      "source": [
        "logitic = linear_model.LogisticRegression()\n",
        "model = logitic.fit(X_train,y_train)\n",
        "predictions = model.predict(X_test)\n"
      ],
      "execution_count": null,
      "outputs": []
    },
    {
      "cell_type": "code",
      "metadata": {
        "colab": {
          "base_uri": "https://localhost:8080/"
        },
        "id": "wg-uY8NzOLx0",
        "outputId": "e4712691-9add-4020-da6e-59f25f17862d"
      },
      "source": [
        "\n",
        "\n",
        "print(classification_report(y_test,predictions))\n",
        "print(confusion_matrix(y_test, predictions))\n",
        "from sklearn.metrics import accuracy_score\n",
        "accuracy_score(y_test,predictions)\n",
        "\n"
      ],
      "execution_count": null,
      "outputs": [
        {
          "output_type": "stream",
          "text": [
            "              precision    recall  f1-score   support\n",
            "\n",
            "           0       1.00      1.00      1.00   1906351\n",
            "           1       0.37      0.43      0.40      2435\n",
            "\n",
            "    accuracy                           1.00   1908786\n",
            "   macro avg       0.68      0.72      0.70   1908786\n",
            "weighted avg       1.00      1.00      1.00   1908786\n",
            "\n",
            "[[1904535    1816]\n",
            " [   1380    1055]]\n"
          ],
          "name": "stdout"
        },
        {
          "output_type": "execute_result",
          "data": {
            "text/plain": [
              "0.9983256373422689"
            ]
          },
          "metadata": {
            "tags": []
          },
          "execution_count": 16
        }
      ]
    },
    {
      "cell_type": "code",
      "metadata": {
        "id": "KEXiIYSlQIyQ",
        "colab": {
          "base_uri": "https://localhost:8080/"
        },
        "outputId": "f2e958d8-1619-4609-85e3-564f89ee5789"
      },
      "source": [
        "gnb = GaussianNB()\n",
        "model = gnb.fit(X_train,y_train)\n",
        "predictions = model.predict(X_test)\n",
        "print(classification_report(y_test,predictions))\n",
        "print(confusion_matrix(y_test, predictions))\n",
        "accuracy_score(y_test,predictions)"
      ],
      "execution_count": null,
      "outputs": [
        {
          "output_type": "stream",
          "text": [
            "              precision    recall  f1-score   support\n",
            "\n",
            "           0       1.00      0.99      1.00   1906351\n",
            "           1       0.03      0.16      0.05      2435\n",
            "\n",
            "    accuracy                           0.99   1908786\n",
            "   macro avg       0.51      0.58      0.52   1908786\n",
            "weighted avg       1.00      0.99      0.99   1908786\n",
            "\n",
            "[[1893838   12513]\n",
            " [   2043     392]]\n"
          ],
          "name": "stdout"
        },
        {
          "output_type": "execute_result",
          "data": {
            "text/plain": [
              "0.9923742106239254"
            ]
          },
          "metadata": {
            "tags": []
          },
          "execution_count": 17
        }
      ]
    },
    {
      "cell_type": "code",
      "metadata": {
        "colab": {
          "base_uri": "https://localhost:8080/"
        },
        "id": "8pyDDzYg-VIY",
        "outputId": "8e82e4ec-76e8-4d08-a332-35598b24aee2"
      },
      "source": [
        "clf=RandomForestClassifier(n_estimators=25) \n",
        "model = clf.fit(X_train,y_train)\n",
        "#predicting our labels\n",
        "predictions = model.predict(X_test)\n",
        "print(classification_report(y_test,predictions))\n",
        "print(confusion_matrix(y_test, predictions))\n",
        "accuracy_score(y_test,predictions)"
      ],
      "execution_count": null,
      "outputs": [
        {
          "output_type": "stream",
          "text": [
            "              precision    recall  f1-score   support\n",
            "\n",
            "           0       1.00      1.00      1.00   1906351\n",
            "           1       0.95      0.72      0.82      2435\n",
            "\n",
            "    accuracy                           1.00   1908786\n",
            "   macro avg       0.98      0.86      0.91   1908786\n",
            "weighted avg       1.00      1.00      1.00   1908786\n",
            "\n",
            "[[1906263      88]\n",
            " [    687    1748]]\n"
          ],
          "name": "stdout"
        },
        {
          "output_type": "execute_result",
          "data": {
            "text/plain": [
              "0.9995939827722962"
            ]
          },
          "metadata": {
            "tags": []
          },
          "execution_count": 18
        }
      ]
    },
    {
      "cell_type": "code",
      "metadata": {
        "colab": {
          "base_uri": "https://localhost:8080/"
        },
        "id": "YDIZRVSF-lTf",
        "outputId": "f57be284-752a-4e9a-8faa-80b44a3ac636"
      },
      "source": [
        "pd.set_option('display.max_columns', None)\n",
        "pd.set_option('display.max_rows', None)\n",
        "print(meta_data.shape)\n",
        "print(meta_data.head())"
      ],
      "execution_count": null,
      "outputs": [
        {
          "output_type": "stream",
          "text": [
            "(6362620, 8)\n",
            "   step    amount  oldbalanceOrg  newbalanceOrig  oldbalanceDest  \\\n",
            "0     1   9839.64       170136.0       160296.36             0.0   \n",
            "1     1   1864.28        21249.0        19384.72             0.0   \n",
            "2     1    181.00          181.0            0.00             0.0   \n",
            "3     1    181.00          181.0            0.00         21182.0   \n",
            "4     1  11668.14        41554.0        29885.86             0.0   \n",
            "\n",
            "   newbalanceDest  isFraud  isFlaggedFraud  \n",
            "0             0.0        0               0  \n",
            "1             0.0        0               0  \n",
            "2             0.0        1               0  \n",
            "3             0.0        1               0  \n",
            "4             0.0        0               0  \n"
          ],
          "name": "stdout"
        }
      ]
    },
    {
      "cell_type": "code",
      "metadata": {
        "id": "42Hoebf3vicO"
      },
      "source": [
        ""
      ],
      "execution_count": null,
      "outputs": []
    },
    {
      "cell_type": "code",
      "metadata": {
        "id": "TI5vG_GDvoWN"
      },
      "source": [
        ""
      ],
      "execution_count": null,
      "outputs": []
    }
  ]
}